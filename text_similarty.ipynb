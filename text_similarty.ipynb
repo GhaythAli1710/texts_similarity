{
  "nbformat": 4,
  "nbformat_minor": 0,
  "metadata": {
    "colab": {
      "provenance": [],
      "collapsed_sections": []
    },
    "kernelspec": {
      "name": "python3",
      "display_name": "Python 3"
    },
    "language_info": {
      "name": "python"
    },
    "accelerator": "GPU",
    "gpuClass": "standard"
  },
  "cells": [
    {
      "cell_type": "markdown",
      "source": [
        "# download the model"
      ],
      "metadata": {
        "id": "YN0SRA56TzuO"
      }
    },
    {
      "cell_type": "code",
      "source": [
        "!wget http://nlp.stanford.edu/data/glove.6B.zip\n",
        "!unzip glove*.zip"
      ],
      "metadata": {
        "colab": {
          "base_uri": "https://localhost:8080/"
        },
        "id": "ryG5Uql1b0sd",
        "outputId": "2d71a295-216f-4202-d33b-c6d3687c9b69"
      },
      "execution_count": 1,
      "outputs": [
        {
          "output_type": "stream",
          "name": "stdout",
          "text": [
            "--2022-11-08 17:30:48--  http://nlp.stanford.edu/data/glove.6B.zip\n",
            "Resolving nlp.stanford.edu (nlp.stanford.edu)... 171.64.67.140\n",
            "Connecting to nlp.stanford.edu (nlp.stanford.edu)|171.64.67.140|:80... connected.\n",
            "HTTP request sent, awaiting response... 302 Found\n",
            "Location: https://nlp.stanford.edu/data/glove.6B.zip [following]\n",
            "--2022-11-08 17:30:48--  https://nlp.stanford.edu/data/glove.6B.zip\n",
            "Connecting to nlp.stanford.edu (nlp.stanford.edu)|171.64.67.140|:443... connected.\n",
            "HTTP request sent, awaiting response... 301 Moved Permanently\n",
            "Location: https://downloads.cs.stanford.edu/nlp/data/glove.6B.zip [following]\n",
            "--2022-11-08 17:30:49--  https://downloads.cs.stanford.edu/nlp/data/glove.6B.zip\n",
            "Resolving downloads.cs.stanford.edu (downloads.cs.stanford.edu)... 171.64.64.22\n",
            "Connecting to downloads.cs.stanford.edu (downloads.cs.stanford.edu)|171.64.64.22|:443... connected.\n",
            "HTTP request sent, awaiting response... 200 OK\n",
            "Length: 862182613 (822M) [application/zip]\n",
            "Saving to: ‘glove.6B.zip’\n",
            "\n",
            "glove.6B.zip        100%[===================>] 822.24M  1.26MB/s    in 4m 21s  \n",
            "\n",
            "2022-11-08 17:35:11 (3.16 MB/s) - ‘glove.6B.zip’ saved [862182613/862182613]\n",
            "\n",
            "Archive:  glove.6B.zip\n",
            "  inflating: glove.6B.50d.txt        \n",
            "  inflating: glove.6B.100d.txt       \n",
            "  inflating: glove.6B.200d.txt       \n",
            "  inflating: glove.6B.300d.txt       \n"
          ]
        }
      ]
    },
    {
      "cell_type": "markdown",
      "source": [
        "# import the libraries"
      ],
      "metadata": {
        "id": "sg1NTRTtT6nv"
      }
    },
    {
      "cell_type": "code",
      "source": [
        "import nltk\n",
        "import numpy as np\n",
        "import re\n",
        "from nltk.corpus import stopwords\n",
        "import pandas as pd\n",
        "from nltk.stem import WordNetLemmatizer\n",
        "from nltk.tokenize import word_tokenize\n",
        "import scipy\n",
        "import seaborn as sns\n",
        "import matplotlib.pyplot as plt\n",
        "\n",
        "nltk.download('stopwords')\n",
        "nltk.download('wordnet')\n",
        "nltk.download('omw-1.4')"
      ],
      "metadata": {
        "colab": {
          "base_uri": "https://localhost:8080/"
        },
        "id": "vkq7zzWCdmdU",
        "outputId": "75824d4a-b502-4e15-8466-be42e938fa29"
      },
      "execution_count": 2,
      "outputs": [
        {
          "output_type": "stream",
          "name": "stderr",
          "text": [
            "[nltk_data] Downloading package stopwords to /root/nltk_data...\n",
            "[nltk_data]   Unzipping corpora/stopwords.zip.\n",
            "[nltk_data] Downloading package wordnet to /root/nltk_data...\n",
            "[nltk_data] Downloading package omw-1.4 to /root/nltk_data...\n"
          ]
        },
        {
          "output_type": "execute_result",
          "data": {
            "text/plain": [
              "True"
            ]
          },
          "metadata": {},
          "execution_count": 2
        }
      ]
    },
    {
      "cell_type": "markdown",
      "source": [
        "# preprocessing the input"
      ],
      "metadata": {
        "id": "Fk0MecJnUAVJ"
      }
    },
    {
      "cell_type": "code",
      "source": [
        "def preprocess(raw_text):\n",
        "    result =[]\n",
        "\n",
        "    # keep only words\n",
        "    letters_only_text = re.sub(\"[^a-zA-Z]\", \" \", raw_text)\n",
        "\n",
        "    # convert to lower case and split \n",
        "    words = letters_only_text.lower().split()\n",
        "      \n",
        "    # remove stopwords\n",
        "    stopword_set = set(stopwords.words(\"english\"))\n",
        "\n",
        "    cleaned_words = list(set([w for w in words if w not in stopword_set]))\n",
        "   \n",
        "    ##lemetization\n",
        "    lemmatizer = WordNetLemmatizer()\n",
        "    for w in cleaned_words :\n",
        "      lemitization_words =  lemmatizer.lemmatize(w)\n",
        "      result.append(lemitization_words)\n",
        "  \n",
        "\n",
        "    return result"
      ],
      "metadata": {
        "id": "luD-LhjtSio5"
      },
      "execution_count": 3,
      "outputs": []
    },
    {
      "cell_type": "markdown",
      "source": [
        "\n",
        "# Embadded the Input\n",
        "\n",
        "\n"
      ],
      "metadata": {
        "id": "wjxp5Dz-UJqC"
      }
    },
    {
      "cell_type": "code",
      "source": [
        "gloveFile = \"/content/glove.6B.50d.txt\"\n"
      ],
      "metadata": {
        "id": "TDaIyAXWRuqj"
      },
      "execution_count": 4,
      "outputs": []
    },
    {
      "cell_type": "code",
      "source": [
        "def loadGloveModel(gloveFile):\n",
        "    print (\"Loading Glove Model\")\n",
        "    with open(gloveFile, encoding=\"utf8\" ) as f:\n",
        "        content = f.readlines()\n",
        "    model = {}\n",
        "    for line in content:\n",
        "        splitLine = line.split()\n",
        "        word = splitLine[0]\n",
        "        embedding = np.array([float(val) for val in splitLine[1:]])\n",
        "        model[word] = embedding\n",
        "    print (\"Done.\",len(model),\" words loaded!\")\n",
        "    return model\n"
      ],
      "metadata": {
        "id": "cM_CsIzMRv_p"
      },
      "execution_count": 5,
      "outputs": []
    },
    {
      "cell_type": "markdown",
      "source": [
        "# calculate the similarity between texts"
      ],
      "metadata": {
        "id": "QD3At70fUU4x"
      }
    },
    {
      "cell_type": "code",
      "execution_count": 6,
      "metadata": {
        "id": "MTaSLhNP30a9"
      },
      "outputs": [],
      "source": [
        " \n",
        "def cosine_distance_between_two_words(word1, word2):\n",
        "    return (1- scipy.spatial.distance.cosine(model[word1], model[word2]))\n",
        "\n",
        "def calculate_heat_matrix_for_two_sentences(s1,s2):\n",
        "    s1 = preprocess(s1)\n",
        "    s2 = preprocess(s2)\n",
        "    result_list = [[cosine_distance_between_two_words(word1, word2) for word2 in s2] for word1 in s1]\n",
        "    result_df = pd.DataFrame(result_list)\n",
        "    result_df.columns = s2\n",
        "    result_df.index = s1\n",
        "    return result_df\n",
        "\n",
        "def cosine_distance_wordembedding_method(s1, s2):\n",
        "    vector_1 = np.mean([model[word] for word in preprocess(s1)],axis=0)\n",
        "    vector_2 = np.mean([model[word] for word in preprocess(s2)],axis=0)\n",
        "    cosine = scipy.spatial.distance.cosine(vector_1, vector_2)\n",
        "    print('Word Embedding method with a cosine distance asses that our two sentences are similar to',round((1-cosine)*100,2),'%')\n",
        "\n",
        "def heat_map_matrix_between_two_sentences(s1,s2):\n",
        "    df = calculate_heat_matrix_for_two_sentences(s1,s2)\n",
        "    fig, ax = plt.subplots(figsize=(5,5)) \n",
        "    ax_blue = sns.heatmap(df, cmap=\"YlGnBu\")\n",
        "    # ax_red = sns.heatmap(df)\n",
        "    print(cosine_distance_wordembedding_method(s1, s2))\n",
        "    return ax_blue"
      ]
    },
    {
      "cell_type": "markdown",
      "source": [
        "# Reading the input"
      ],
      "metadata": {
        "id": "Fc-7EWxSUw3T"
      }
    },
    {
      "cell_type": "code",
      "source": [
        "### READING THE DOCUMENTS\n",
        "text1 = 'One of the most important means 956565 %%%!! of education is distance education, as it has proven very effective'\n",
        "text2 = 'Home education is good and successful online education ways'"
      ],
      "metadata": {
        "id": "Pj7IWVsqd63a"
      },
      "execution_count": 7,
      "outputs": []
    },
    {
      "cell_type": "code",
      "source": [
        "model = loadGloveModel(gloveFile)"
      ],
      "metadata": {
        "colab": {
          "base_uri": "https://localhost:8080/"
        },
        "id": "dKm25OQXHzu7",
        "outputId": "ce5003f0-652e-4fd2-e3dd-5e2ba8e6e8e1"
      },
      "execution_count": 8,
      "outputs": [
        {
          "output_type": "stream",
          "name": "stdout",
          "text": [
            "Loading Glove Model\n",
            "Done. 400000  words loaded!\n"
          ]
        }
      ]
    },
    {
      "cell_type": "code",
      "source": [
        "ss1 = text1\n",
        "ss2 = text2\n",
        "\n",
        "heat_map_matrix_between_two_sentences(ss1,ss2)"
      ],
      "metadata": {
        "colab": {
          "base_uri": "https://localhost:8080/",
          "height": 418
        },
        "id": "NgZ7pJ-K-Rrl",
        "outputId": "8c499327-3380-44e3-fb93-3e731155c58f"
      },
      "execution_count": 9,
      "outputs": [
        {
          "output_type": "stream",
          "name": "stdout",
          "text": [
            "Word Embedding method with a cosine distance asses that our two sentences are similar to 89.48 %\n",
            "None\n"
          ]
        },
        {
          "output_type": "execute_result",
          "data": {
            "text/plain": [
              "<matplotlib.axes._subplots.AxesSubplot at 0x7fd90aa1d610>"
            ]
          },
          "metadata": {},
          "execution_count": 9
        },
        {
          "output_type": "display_data",
          "data": {
            "text/plain": [
              "<Figure size 360x360 with 2 Axes>"
            ],
            "image/png": "[encoded data removed]"
          },
          "metadata": {
            "needs_background": "light"
          }
        }
      ]
    },
    {
      "cell_type": "code",
      "source": [],
      "metadata": {
        "id": "moY4gYBSdI_z"
      },
      "execution_count": null,
      "outputs": []
    }
  ]
}